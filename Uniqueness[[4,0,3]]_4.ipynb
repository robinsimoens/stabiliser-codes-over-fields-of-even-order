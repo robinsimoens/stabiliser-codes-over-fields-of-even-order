{
 "cells": [
  {
   "cell_type": "markdown",
   "id": "00c7ce98-afc5-4b2f-94f0-c4a7e879c146",
   "metadata": {},
   "source": [
    "# Uniqueness of a $[\\![4,0,3]\\!]_4$ stabiliser code"
   ]
  },
  {
   "cell_type": "markdown",
   "id": "82fa62c1-21b4-43dd-b045-a64e7744c25a",
   "metadata": {
    "execution": {
     "iopub.execute_input": "2023-12-30T17:08:24.733585Z",
     "iopub.status.busy": "2023-12-30T17:08:24.732490Z",
     "iopub.status.idle": "2023-12-30T17:08:24.757075Z",
     "shell.execute_reply": "2023-12-30T17:08:24.756010Z",
     "shell.execute_reply.started": "2023-12-30T17:08:24.733544Z"
    },
    "tags": []
   },
   "source": [
    "A $[\\![4,0,3]\\!]_4$ code is equivalent to a set of four solids (projective 3-spaces) in PG(7,2), each equipped with a symplectic polarity, such that every two solids span the entire space, and such that every codimension two space intersects an even number of solids in a hyperbolic line."
   ]
  },
  {
   "cell_type": "markdown",
   "id": "15231e7f-2a9c-4450-9acc-a2188ce5254d",
   "metadata": {},
   "source": [
    "## Arcs of four solids in PG(7,2)"
   ]
  },
  {
   "cell_type": "markdown",
   "id": "b8afdbb1-08aa-4b35-a28f-38d399bf5bd2",
   "metadata": {},
   "source": [
    "We first show that there are only three configurations of four solids in PG(7,2) such that every two solids span the entire space (i.e. an arc of four solids). Without loss of generality, the four solids are spanned by the four column blocks of a block matrix $$\\begin{pmatrix}I&O&I&I\\\\O&I&I&A\\end{pmatrix}$$ where every two column blocks have full rank, and $A$ is determined up to conjugation and permutation."
   ]
  },
  {
   "cell_type": "code",
   "execution_count": 1,
   "id": "7f8a2998-1caa-4821-a3d9-f86785de90ed",
   "metadata": {
    "execution": {
     "iopub.execute_input": "2023-12-30T17:00:56.328882Z",
     "iopub.status.busy": "2023-12-30T17:00:56.328141Z",
     "iopub.status.idle": "2023-12-30T17:00:56.350164Z",
     "shell.execute_reply": "2023-12-30T17:00:56.349422Z",
     "shell.execute_reply.started": "2023-12-30T17:00:56.328810Z"
    },
    "tags": []
   },
   "outputs": [],
   "source": [
    "O = zero_matrix(GF(2),4)\n",
    "I = identity_matrix(GF(2),4)"
   ]
  },
  {
   "cell_type": "markdown",
   "id": "8127415e-886d-42e7-baba-2dd35803c3ba",
   "metadata": {},
   "source": [
    "With the purpose of storing them as keys in a dictionary, the following funtion converts matrices into tuples:"
   ]
  },
  {
   "cell_type": "code",
   "execution_count": 2,
   "id": "cbb1c4f3-f08e-474b-a265-1a2533a323fa",
   "metadata": {
    "execution": {
     "iopub.execute_input": "2023-12-30T17:00:56.351756Z",
     "iopub.status.busy": "2023-12-30T17:00:56.351195Z",
     "iopub.status.idle": "2023-12-30T17:00:56.355788Z",
     "shell.execute_reply": "2023-12-30T17:00:56.355081Z",
     "shell.execute_reply.started": "2023-12-30T17:00:56.351729Z"
    },
    "tags": []
   },
   "outputs": [],
   "source": [
    "def tuplify(M): return tuple(tuple(row) for row in M) # makes matrices hashable"
   ]
  },
  {
   "cell_type": "markdown",
   "id": "5741ff5d-e4ae-4ad5-8c01-ea89f0ec3ae1",
   "metadata": {},
   "source": [
    "The following function does row operations to bring a block matrix in \"standard form\", where the first column block is spanned by $\\begin{pmatrix}I\\\\O\\end{pmatrix}$, the second one by $\\begin{pmatrix}O\\\\I\\end{pmatrix}$ and the third one by $\\begin{pmatrix}I\\\\I\\end{pmatrix}$."
   ]
  },
  {
   "cell_type": "code",
   "execution_count": 3,
   "id": "0ef6ab95-549e-4880-98d0-05bf7484b1ba",
   "metadata": {
    "execution": {
     "iopub.execute_input": "2023-12-30T17:00:56.357383Z",
     "iopub.status.busy": "2023-12-30T17:00:56.356589Z",
     "iopub.status.idle": "2023-12-30T17:00:56.362062Z",
     "shell.execute_reply": "2023-12-30T17:00:56.361330Z",
     "shell.execute_reply.started": "2023-12-30T17:00:56.357346Z"
    },
    "tags": []
   },
   "outputs": [],
   "source": [
    "def standard_form(G):\n",
    "    L1 = ~G[:,:8]\n",
    "    G = L1*G # row-reduced form\n",
    "    L2 = block_diagonal_matrix(I,G[:4,8:12]*~G[4:,8:12])\n",
    "    G = L2*G # third column block is now spanned by [[I],[I]]\n",
    "    return G, L2*L1 # we multiplied with L2*L1 on the left to bring into standard form"
   ]
  },
  {
   "cell_type": "markdown",
   "id": "3ad15ee9-8539-498b-a490-4696ab9f1f6d",
   "metadata": {},
   "source": [
    "For any block $A$, the submatrices $\\begin{pmatrix}I&I\\\\O&A\\end{pmatrix}$ and $\\begin{pmatrix}I&I\\\\I&A\\end{pmatrix}$ should be invertible, i.e. $A$ and $A+I$ should be invertible."
   ]
  },
  {
   "cell_type": "code",
   "execution_count": 4,
   "id": "fd05117a-7092-4197-b623-55ac4a844fde",
   "metadata": {
    "execution": {
     "iopub.execute_input": "2023-12-30T17:00:56.363656Z",
     "iopub.status.busy": "2023-12-30T17:00:56.362869Z",
     "iopub.status.idle": "2023-12-30T17:01:00.766226Z",
     "shell.execute_reply": "2023-12-30T17:01:00.765524Z",
     "shell.execute_reply.started": "2023-12-30T17:00:56.363592Z"
    },
    "tags": []
   },
   "outputs": [],
   "source": [
    "GL = [M for M in MatrixSpace(GF(2),4,4) if M.is_invertible()]\n",
    "blocks = [M for M in GL if (M+I).is_invertible()]"
   ]
  },
  {
   "cell_type": "markdown",
   "id": "9aacea8a-d3e6-43d5-8846-29454f63e08a",
   "metadata": {},
   "source": [
    "First, we determine all $A$'s up to conjugation."
   ]
  },
  {
   "cell_type": "code",
   "execution_count": 5,
   "id": "66b3f226-3e12-4d13-ba9d-a77860530dbb",
   "metadata": {
    "execution": {
     "iopub.execute_input": "2023-12-30T17:01:00.767987Z",
     "iopub.status.busy": "2023-12-30T17:01:00.767213Z",
     "iopub.status.idle": "2023-12-30T17:01:04.820331Z",
     "shell.execute_reply": "2023-12-30T17:01:04.819543Z",
     "shell.execute_reply.started": "2023-12-30T17:01:00.767955Z"
    },
    "tags": []
   },
   "outputs": [
    {
     "data": {
      "text/plain": [
       "5"
      ]
     },
     "execution_count": 5,
     "metadata": {},
     "output_type": "execute_result"
    }
   ],
   "source": [
    "conj_representatives_A = [] # A-blocks up to conjugation\n",
    "get_conj_representative_A = {} # stores the conjugation representative of the A-block\n",
    "for A in blocks:\n",
    "    a = tuplify(A)\n",
    "    if not a in get_conj_representative_A: # conjugacy class not yet considered\n",
    "        conj_representatives_A.append(a)\n",
    "        for X in GL:\n",
    "            a_equiv = tuplify(~X*A*X)\n",
    "            if not a_equiv in get_conj_representative_A:\n",
    "                get_conj_representative_A[a_equiv] = a, X # conjugate with X to get A\n",
    "len(conj_representatives_A)"
   ]
  },
  {
   "cell_type": "markdown",
   "id": "eff4929e-b064-4962-9542-3f999c7f35aa",
   "metadata": {},
   "source": [
    "Now also up to permutation."
   ]
  },
  {
   "cell_type": "code",
   "execution_count": 6,
   "id": "4abe40a3-66c4-4098-9f35-5b4955dedc1d",
   "metadata": {
    "execution": {
     "iopub.execute_input": "2023-12-30T17:01:04.822087Z",
     "iopub.status.busy": "2023-12-30T17:01:04.821290Z",
     "iopub.status.idle": "2023-12-30T17:01:05.564289Z",
     "shell.execute_reply": "2023-12-30T17:01:05.563486Z",
     "shell.execute_reply.started": "2023-12-30T17:01:04.822055Z"
    },
    "tags": []
   },
   "outputs": [
    {
     "data": {
      "text/plain": [
       "3"
      ]
     },
     "execution_count": 6,
     "metadata": {},
     "output_type": "execute_result"
    }
   ],
   "source": [
    "representatives_A = [] # A-blocks up to equivalence\n",
    "get_representative_A = {} # stores the representative of the A-block\n",
    "for a, (a_conj, X) in get_conj_representative_A.items():\n",
    "    if not a_conj in get_representative_A: # permutation class not yet considered\n",
    "        representatives_A.append(a_conj)\n",
    "        G = block_matrix(GF(2),[[1,0,1,1],[0,1,1,matrix(a_conj)]])\n",
    "        columns = [G[:,4*i:4*i+4] for i in range(4)] # column blocks of G\n",
    "        for pi in Permutations(4):\n",
    "            Gnew, L = standard_form(block_matrix(GF(2), [[columns[pi(i+1)-1] for i in range(4)]])) # permuted and put in standard form\n",
    "            a_equiv, Y = get_conj_representative_A[tuplify(Gnew[4:,12:]*~Gnew[:4,12:])] # conjugation representative of the new A-block\n",
    "            if not a_equiv in get_representative_A:\n",
    "                get_representative_A[a_equiv] = a_conj, ~L*~block_diagonal_matrix(Y,Y) # multiply with this on the left to get A\n",
    "    a_perm, L = get_representative_A[a_conj]\n",
    "    get_representative_A[a] = a_perm, L*block_diagonal_matrix(X,X) # multiply with this on the left to get A_perm\n",
    "len(representatives_A) # number of configurations of four solids such that every two span the whole space"
   ]
  },
  {
   "cell_type": "markdown",
   "id": "d78a41bf-4d1c-44bf-84ae-f09d0dea78bf",
   "metadata": {},
   "source": [
    "So there are three different arcs of four solids in PG(7,2)."
   ]
  },
  {
   "cell_type": "code",
   "execution_count": 7,
   "id": "9e93db19-e337-4554-97cb-f16b7e2d8761",
   "metadata": {
    "execution": {
     "iopub.execute_input": "2023-12-30T17:01:05.567265Z",
     "iopub.status.busy": "2023-12-30T17:01:05.566593Z",
     "iopub.status.idle": "2023-12-30T17:01:05.572821Z",
     "shell.execute_reply": "2023-12-30T17:01:05.571873Z",
     "shell.execute_reply.started": "2023-12-30T17:01:05.567238Z"
    },
    "tags": []
   },
   "outputs": [
    {
     "name": "stdout",
     "output_type": "stream",
     "text": [
      "[1 1 0 0]\n",
      "[0 0 1 0]\n",
      "[0 0 0 1]\n",
      "[1 0 0 0] \n",
      "\n",
      "[0 1 1 0]\n",
      "[1 0 0 0]\n",
      "[0 0 0 1]\n",
      "[0 1 0 0] \n",
      "\n",
      "[1 1 0 0]\n",
      "[1 0 0 0]\n",
      "[0 0 1 1]\n",
      "[0 0 1 0] \n",
      "\n"
     ]
    }
   ],
   "source": [
    "for a in representatives_A:\n",
    "    print(matrix(a), \"\\n\")"
   ]
  },
  {
   "cell_type": "markdown",
   "id": "356fb568-d9bc-4e46-ad34-a4b3f3a16b52",
   "metadata": {},
   "source": [
    "## $[\\![4,0,3]\\!]_4$ stabiliser code"
   ]
  },
  {
   "cell_type": "markdown",
   "id": "4116dc78-c53a-4bea-a84a-a8ec5fc9d432",
   "metadata": {},
   "source": [
    "For each of the three configurations of four solids, we check whether they can be equipped with a symplectic polarity such that every codimension two space intersects an even number of solids in a hyperbolic line. Suppose that this is the case. For each line $\\ell$ in each of the four solids (so $4\\cdot35=140$ lines), let $$x_\\ell=\\begin{cases}0\\text{ if \\(\\ell\\) is totally isotropic}\\\\1\\text{ if \\(\\ell\\) is hyperbolic}\\end{cases}.$$\n",
    "Then for each codimension two space $\\pi$, the sum of the $x_\\ell$'s for which $\\ell$ is the intersection of $\\pi$ with one of the four solids, equals zero modulo 2. So it suffices to check a system of homogeneous equations over $\\mathbb{F}_2$, which we calculate as the nullspace of a matrix M. "
   ]
  },
  {
   "cell_type": "markdown",
   "id": "6ae796a5-4fc3-4ce2-b41e-23eb20ab9aa8",
   "metadata": {},
   "source": [
    "Given such a solution, one still has to check whether the lines $\\ell$ for which $x_\\ell=1$, really are hyperbolic lines of a symplectic polarity. W(3,2) contains 15 totally isotropic lines and 20 hyperbolic lines, so we first of all check that $|\\{\\ell\\in\\pi\\mid x_\\ell=1\\}|=20$. Then, we choose a (potential) hyperbolic line $\\ell_1$ and loop over all (potential) hyperbolic lines $\\ell_2$ to check whether $\\ell_2=\\ell_1^\\perp$ (we can fix $\\ell_1$ by Witt's theorem). This is true if and only if every other (potential) hyperbolic line intersects exactly one of them. If we find such a line $\\ell_2$, then these lines are indeed the hyperbolic lines of a symplectic polarity."
   ]
  },
  {
   "cell_type": "code",
   "execution_count": 8,
   "id": "5425af5f-2d3c-4033-8ad6-bc62709c5bc0",
   "metadata": {
    "execution": {
     "iopub.execute_input": "2023-12-30T17:01:05.574418Z",
     "iopub.status.busy": "2023-12-30T17:01:05.573783Z",
     "iopub.status.idle": "2023-12-30T17:01:10.316832Z",
     "shell.execute_reply": "2023-12-30T17:01:10.316047Z",
     "shell.execute_reply.started": "2023-12-30T17:01:05.574391Z"
    },
    "tags": []
   },
   "outputs": [
    {
     "data": {
      "text/plain": [
       "10795"
      ]
     },
     "execution_count": 8,
     "metadata": {},
     "output_type": "execute_result"
    }
   ],
   "source": [
    "V = VectorSpace(GF(2),8)\n",
    "codim2s = list(V.subspaces(6))\n",
    "len(codim2s)"
   ]
  },
  {
   "cell_type": "code",
   "execution_count": 9,
   "id": "e6e80b02-b7bd-45d4-aa29-26de7b0b9de9",
   "metadata": {
    "execution": {
     "iopub.execute_input": "2023-12-30T17:01:10.318735Z",
     "iopub.status.busy": "2023-12-30T17:01:10.317859Z",
     "iopub.status.idle": "2023-12-30T17:03:04.637786Z",
     "shell.execute_reply": "2023-12-30T17:03:04.636998Z",
     "shell.execute_reply.started": "2023-12-30T17:01:10.318707Z"
    },
    "tags": []
   },
   "outputs": [
    {
     "name": "stdout",
     "output_type": "stream",
     "text": [
      "Calculating solutions for configuration nr. 1.\n",
      "Calculating solutions for configuration nr. 2.\n",
      "Calculating solutions for configuration nr. 3.\n",
      "New solution found.\n",
      "Solution found, but not new.\n",
      "Solution found, but not new.\n"
     ]
    }
   ],
   "source": [
    "# may take a few minutes\n",
    "count = 0\n",
    "for a in representatives_A:\n",
    "    count += 1\n",
    "    print(\"Calculating solutions for configuration nr. \" + str(count) + \".\")\n",
    "    A = matrix(a)\n",
    "    symmetries = [X for X in GL if X*A==A*X]\n",
    "    solids = [V.subspace(list(block_matrix(GF(2),[x]))) for x in [[I,O],[O,I],[I,I],[I,A.transpose()]]]\n",
    "    label = {} # stores the label of a line\n",
    "    i = 0\n",
    "    for solid in solids:\n",
    "        for line in solid.subspaces(2):\n",
    "            label[line] = i\n",
    "            i += 1\n",
    "    M = [] # 10795 x 140 matrix\n",
    "    for pi in codim2s:\n",
    "        row = [0]*140\n",
    "        for solid in solids:\n",
    "            intersection = pi.intersection(solid)\n",
    "            if intersection.dimension() == 2:\n",
    "                row[label[intersection]] = 1\n",
    "        M.append(row)\n",
    "    solutions = set()\n",
    "    for v in matrix(GF(2), M).right_kernel():\n",
    "        v = list(v)\n",
    "        if tuple(v) in solutions:\n",
    "            print(\"Solution found, but not new.\")\n",
    "            continue\n",
    "        if not all([v[35*i:35*(i+1)].count(1)==20 for i in range(4)]):\n",
    "            continue\n",
    "        for solid in solids:\n",
    "            symplectic_lines = [line for line in solid.subspaces(2) if v[label[line]]==1]\n",
    "            l1 = symplectic_lines[0] # w.l.o.g. by Witt's theorem\n",
    "            for l2 in symplectic_lines:\n",
    "                symplectic = all(line.intersection(l1).dimension() != line.intersection(l2).dimension() for line in symplectic_lines) # if l2 = perp(l1)\n",
    "                if symplectic:\n",
    "                    break\n",
    "            if not symplectic:\n",
    "                break\n",
    "        if symplectic:\n",
    "            print(\"New solution found.\")\n",
    "            for X in symmetries:\n",
    "                symmetric_solution = [0]*140\n",
    "                for solid in solids:\n",
    "                    for line in solid.subspaces(2):\n",
    "                        if v[label[line]] == 1:\n",
    "                            L = matrix(line.basis())*block_diagonal_matrix(X.transpose(),X.transpose())\n",
    "                            newline = V.subspace(list(L))\n",
    "                            symmetric_solution[label[newline]] = 1\n",
    "                solutions.add(tuple(symmetric_solution))"
   ]
  },
  {
   "cell_type": "markdown",
   "id": "0e4080f5-2ea8-42cd-9ec5-f093963af151",
   "metadata": {},
   "source": [
    "So there are three solutions, all for the third configuration. However, they are equivalent up to a projective transformation that fixes the solids. In other words, there is a unique $[\\![4,0,3]\\!]_4$ code."
   ]
  }
 ],
 "metadata": {
  "kernelspec": {
   "display_name": "SageMath 9.7",
   "language": "sage",
   "name": "sagemath"
  },
  "language_info": {
   "codemirror_mode": {
    "name": "ipython",
    "version": 3
   },
   "file_extension": ".py",
   "mimetype": "text/x-python",
   "name": "python",
   "nbconvert_exporter": "python",
   "pygments_lexer": "ipython3",
   "version": "3.10.5"
  }
 },
 "nbformat": 4,
 "nbformat_minor": 5
}
