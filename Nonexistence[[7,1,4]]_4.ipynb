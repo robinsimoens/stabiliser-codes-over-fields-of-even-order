{
 "cells": [
  {
   "cell_type": "markdown",
   "id": "00c7ce98-afc5-4b2f-94f0-c4a7e879c146",
   "metadata": {},
   "source": [
    "# Nonexistence of a $[\\![7,1,4]\\!]_4$ stabiliser code"
   ]
  },
  {
   "cell_type": "markdown",
   "id": "86b107eb-78cb-4f2b-9376-e9f3aff45089",
   "metadata": {},
   "source": [
    "A $[\\![7,1,4]\\!]_4$ code is equivalent to a set of seven solids (projective 3-spaces) in PG(11,2), each equipped with a symplectic polarity, such that every three solids span the entire space, and such that every codimension two space intersects an even number of solids in a hyperbolic line.\n",
    "\n",
    "If we project from one of the solids, we get a $[\\![6,2,3]\\!]_4$ code, or equivalently, six solids in PG(7,2), each equipped with a symplectic polarity, such that every two solids span the entire space, and such that every codimension two space intersects an even number of solids in a hyperbolic line. We therefore start by generating all arcs of six solids in PG(7,2)."
   ]
  },
  {
   "cell_type": "markdown",
   "id": "15231e7f-2a9c-4450-9acc-a2188ce5254d",
   "metadata": {},
   "source": [
    "## Arcs of six solids in PG(7,2)"
   ]
  },
  {
   "cell_type": "markdown",
   "id": "2dbb2fd8-820e-436d-b21e-1beae049c25e",
   "metadata": {},
   "source": [
    "We first show that there are 341 configurations of six solids in PG(7,2) such that every two solids span the entire space (i.e. an arc of six solids). Without loss of generality, the four solids are spanned by the four column blocks of a block matrix $$G=\\begin{pmatrix}I&O&I&I&I&I\\\\O&I&I&A&B&C\\end{pmatrix}$$ where every two column blocks have full rank, and $A,B,C$ are determined up to conjugation and permutation."
   ]
  },
  {
   "cell_type": "code",
   "execution_count": 1,
   "id": "7f8a2998-1caa-4821-a3d9-f86785de90ed",
   "metadata": {
    "execution": {
     "iopub.execute_input": "2023-12-30T17:02:35.070036Z",
     "iopub.status.busy": "2023-12-30T17:02:35.069330Z",
     "iopub.status.idle": "2023-12-30T17:02:35.092013Z",
     "shell.execute_reply": "2023-12-30T17:02:35.091298Z",
     "shell.execute_reply.started": "2023-12-30T17:02:35.069951Z"
    },
    "tags": []
   },
   "outputs": [],
   "source": [
    "O = zero_matrix(GF(2),4)\n",
    "I = identity_matrix(GF(2),4)"
   ]
  },
  {
   "cell_type": "markdown",
   "id": "8127415e-886d-42e7-baba-2dd35803c3ba",
   "metadata": {},
   "source": [
    "With the purpose of storing them as keys in a dictionary, the following funtion converts matrices into tuples:"
   ]
  },
  {
   "cell_type": "code",
   "execution_count": 2,
   "id": "cbb1c4f3-f08e-474b-a265-1a2533a323fa",
   "metadata": {
    "execution": {
     "iopub.execute_input": "2023-12-30T17:02:35.093654Z",
     "iopub.status.busy": "2023-12-30T17:02:35.092977Z",
     "iopub.status.idle": "2023-12-30T17:02:35.097842Z",
     "shell.execute_reply": "2023-12-30T17:02:35.097091Z",
     "shell.execute_reply.started": "2023-12-30T17:02:35.093628Z"
    },
    "tags": []
   },
   "outputs": [],
   "source": [
    "def tuplify(M): return tuple(tuple(row) for row in M) # makes matrices hashable"
   ]
  },
  {
   "cell_type": "markdown",
   "id": "5741ff5d-e4ae-4ad5-8c01-ea89f0ec3ae1",
   "metadata": {},
   "source": [
    "The following function does row operations to bring a block matrix in \"standard form\", where the first column block is spanned by $\\begin{pmatrix}I\\\\O\\end{pmatrix}$, the second one by $\\begin{pmatrix}O\\\\I\\end{pmatrix}$ and the third one by $\\begin{pmatrix}I\\\\I\\end{pmatrix}$."
   ]
  },
  {
   "cell_type": "code",
   "execution_count": 3,
   "id": "0ef6ab95-549e-4880-98d0-05bf7484b1ba",
   "metadata": {
    "execution": {
     "iopub.execute_input": "2023-12-30T17:02:35.099677Z",
     "iopub.status.busy": "2023-12-30T17:02:35.098806Z",
     "iopub.status.idle": "2023-12-30T17:02:35.105708Z",
     "shell.execute_reply": "2023-12-30T17:02:35.104969Z",
     "shell.execute_reply.started": "2023-12-30T17:02:35.099652Z"
    },
    "tags": []
   },
   "outputs": [],
   "source": [
    "def standard_form(G):\n",
    "    L1 = ~G[:,:8]\n",
    "    G = L1*G # row-reduced form\n",
    "    L2 = block_diagonal_matrix(I,G[:4,8:12]*~G[4:,8:12])\n",
    "    G = L2*G # third column block is now spanned by [[I],[I]]\n",
    "    return G, L2*L1 # we multiplied with L2*L1 on the left to bring into standard form"
   ]
  },
  {
   "cell_type": "markdown",
   "id": "3ad15ee9-8539-498b-a490-4696ab9f1f6d",
   "metadata": {},
   "source": [
    "For any block $A$ (resp. $B,C$), the submatrices $\\begin{pmatrix}I&I\\\\O&A\\end{pmatrix}$ and $\\begin{pmatrix}I&I\\\\I&A\\end{pmatrix}$ should be invertible, i.e. $A$ and $A+I$ should be invertible."
   ]
  },
  {
   "cell_type": "code",
   "execution_count": 4,
   "id": "fd05117a-7092-4197-b623-55ac4a844fde",
   "metadata": {
    "execution": {
     "iopub.execute_input": "2023-12-30T17:02:35.107381Z",
     "iopub.status.busy": "2023-12-30T17:02:35.106835Z",
     "iopub.status.idle": "2023-12-30T17:02:39.630169Z",
     "shell.execute_reply": "2023-12-30T17:02:39.629239Z",
     "shell.execute_reply.started": "2023-12-30T17:02:35.107358Z"
    },
    "tags": []
   },
   "outputs": [],
   "source": [
    "GL = [M for M in MatrixSpace(GF(2),4,4) if M.is_invertible()]\n",
    "blocks = [M for M in GL if (M+I).is_invertible()]"
   ]
  },
  {
   "cell_type": "markdown",
   "id": "fe9acf00-1e31-4af7-ba1f-8f9e026bebe4",
   "metadata": {},
   "source": [
    "### Arcs of four solids in PG(7,2)"
   ]
  },
  {
   "cell_type": "markdown",
   "id": "9aacea8a-d3e6-43d5-8846-29454f63e08a",
   "metadata": {},
   "source": [
    "First, we determine all $A$'s up to conjugation."
   ]
  },
  {
   "cell_type": "code",
   "execution_count": 5,
   "id": "66b3f226-3e12-4d13-ba9d-a77860530dbb",
   "metadata": {
    "execution": {
     "iopub.execute_input": "2023-12-30T17:02:39.634789Z",
     "iopub.status.busy": "2023-12-30T17:02:39.631305Z",
     "iopub.status.idle": "2023-12-30T17:02:43.712502Z",
     "shell.execute_reply": "2023-12-30T17:02:43.711717Z",
     "shell.execute_reply.started": "2023-12-30T17:02:39.634756Z"
    },
    "tags": []
   },
   "outputs": [
    {
     "data": {
      "text/plain": [
       "5"
      ]
     },
     "execution_count": 5,
     "metadata": {},
     "output_type": "execute_result"
    }
   ],
   "source": [
    "conj_representatives_A = [] # A-blocks up to conjugation\n",
    "get_conj_representative_A = {} # stores the conjugation representative of the A-block\n",
    "for A in blocks:\n",
    "    a = tuplify(A)\n",
    "    if not a in get_conj_representative_A: # conjugacy class not yet considered\n",
    "        conj_representatives_A.append(a)\n",
    "        for X in GL:\n",
    "            a_equiv = tuplify(~X*A*X)\n",
    "            if not a_equiv in get_conj_representative_A:\n",
    "                get_conj_representative_A[a_equiv] = a, X # conjugate with X to get A\n",
    "len(conj_representatives_A)"
   ]
  },
  {
   "cell_type": "markdown",
   "id": "eff4929e-b064-4962-9542-3f999c7f35aa",
   "metadata": {},
   "source": [
    "Now also up to permutation."
   ]
  },
  {
   "cell_type": "code",
   "execution_count": 6,
   "id": "4abe40a3-66c4-4098-9f35-5b4955dedc1d",
   "metadata": {
    "execution": {
     "iopub.execute_input": "2023-12-30T17:02:43.715838Z",
     "iopub.status.busy": "2023-12-30T17:02:43.713633Z",
     "iopub.status.idle": "2023-12-30T17:02:44.453645Z",
     "shell.execute_reply": "2023-12-30T17:02:44.452345Z",
     "shell.execute_reply.started": "2023-12-30T17:02:43.715808Z"
    },
    "tags": []
   },
   "outputs": [
    {
     "data": {
      "text/plain": [
       "3"
      ]
     },
     "execution_count": 6,
     "metadata": {},
     "output_type": "execute_result"
    }
   ],
   "source": [
    "representatives_A = [] # A-blocks up to equivalence\n",
    "get_representative_A = {} # stores the representative of the A-block\n",
    "for a, (a_conj, X) in get_conj_representative_A.items():\n",
    "    if not a_conj in get_representative_A: # permutation class not yet considered\n",
    "        representatives_A.append(a_conj)\n",
    "        G = block_matrix(GF(2),[[1,0,1,1],[0,1,1,matrix(a_conj)]])\n",
    "        columns = [G[:,4*i:4*i+4] for i in range(4)] # column blocks of G\n",
    "        for pi in Permutations(4):\n",
    "            Gnew, L = standard_form(block_matrix(GF(2), [[columns[pi(i+1)-1] for i in range(4)]])) # permuted and put in standard form\n",
    "            a_equiv, Y = get_conj_representative_A[tuplify(Gnew[4:,12:]*~Gnew[:4,12:])] # conjugation representative of the new A-block\n",
    "            if not a_equiv in get_representative_A:\n",
    "                get_representative_A[a_equiv] = a_conj, ~L*~block_diagonal_matrix(Y,Y) # multiply with this on the left to get A\n",
    "    a_perm, L = get_representative_A[a_conj]\n",
    "    get_representative_A[a] = a_perm, L*block_diagonal_matrix(X,X) # multiply with this on the left to get A_perm\n",
    "len(representatives_A) # number of configurations of four solids such that every two span the whole space"
   ]
  },
  {
   "cell_type": "markdown",
   "id": "c416ec2b-a55d-4d01-a107-a31490f4cd69",
   "metadata": {},
   "source": [
    "### Arcs of five solids in PG(7,2)"
   ]
  },
  {
   "cell_type": "markdown",
   "id": "aa732761-4a41-4dba-b9a7-03d0785f397a",
   "metadata": {},
   "source": [
    "Next, we determine all $A$'s and $B$'s up to equivalence. First, up to conjugation."
   ]
  },
  {
   "cell_type": "code",
   "execution_count": 7,
   "id": "64738132-c7c5-4aa6-a936-1208fc776f24",
   "metadata": {
    "execution": {
     "iopub.execute_input": "2023-12-30T17:02:44.457436Z",
     "iopub.status.busy": "2023-12-30T17:02:44.454666Z",
     "iopub.status.idle": "2023-12-30T17:02:45.503160Z",
     "shell.execute_reply": "2023-12-30T17:02:45.502387Z",
     "shell.execute_reply.started": "2023-12-30T17:02:44.457406Z"
    },
    "tags": []
   },
   "outputs": [
    {
     "data": {
      "text/plain": [
       "305"
      ]
     },
     "execution_count": 7,
     "metadata": {},
     "output_type": "execute_result"
    }
   ],
   "source": [
    "conj_representatives_AB = [] # (A,B)-blocks up to conjugation\n",
    "get_conj_representative_AB = {} # stores the conjugation representative of the (A,B)-block\n",
    "centraliser = {} # stores the invertible matrices that commute with A\n",
    "compatibleblocks = {} # stores the matrices B (or C) that exist as a block together with A\n",
    "for a in representatives_A:\n",
    "    A = matrix(a)\n",
    "    centraliser[a] = [X for X in GL if A*X==X*A]\n",
    "    compatibleblocks[a] = [B for B in blocks if (A+B).is_invertible()]\n",
    "    for B in compatibleblocks[a]:\n",
    "        b = tuplify(B)\n",
    "        if not (a,b) in get_conj_representative_AB: # conjugacy class not yet considered\n",
    "            conj_representatives_AB.append((a,b))\n",
    "            for X in centraliser[a]:\n",
    "                b_equiv = tuplify(~X*B*X)\n",
    "                if not (a,b_equiv) in get_conj_representative_AB:\n",
    "                    get_conj_representative_AB[(a,b_equiv)] = b, X # conjugate with X to get (A,B)\n",
    "len(conj_representatives_AB)"
   ]
  },
  {
   "cell_type": "markdown",
   "id": "ac038189-dcd6-4bc8-bdf4-d372bec3b11f",
   "metadata": {},
   "source": [
    "Up to permutation:"
   ]
  },
  {
   "cell_type": "code",
   "execution_count": 8,
   "id": "5398a07c-8415-4320-998e-22cb44b8ab67",
   "metadata": {
    "execution": {
     "iopub.execute_input": "2023-12-30T17:02:45.507038Z",
     "iopub.status.busy": "2023-12-30T17:02:45.506131Z",
     "iopub.status.idle": "2023-12-30T17:02:47.424212Z",
     "shell.execute_reply": "2023-12-30T17:02:47.423474Z",
     "shell.execute_reply.started": "2023-12-30T17:02:45.507009Z"
    },
    "tags": []
   },
   "outputs": [
    {
     "data": {
      "text/plain": [
       "22"
      ]
     },
     "execution_count": 8,
     "metadata": {},
     "output_type": "execute_result"
    }
   ],
   "source": [
    "representatives_AB = [] # (A,B)-blocks up to equivalence\n",
    "get_representative_AB = {} # stores the representative of the (A,B)-block\n",
    "for (a,b), (b_conj, X) in get_conj_representative_AB.items():\n",
    "    if not (a,b_conj) in get_representative_AB: # permutation class not yet considered\n",
    "        representatives_AB.append((a,b_conj))\n",
    "        G = block_matrix(GF(2),[[1,0,1,1,1],[0,1,1,matrix(a),matrix(b_conj)]])\n",
    "        columns = [G[:,4*i:4*i+4] for i in range(5)] # column blocks of G\n",
    "        for pi in Permutations(5):\n",
    "            Gnew, L1 = standard_form(block_matrix(GF(2), [[columns[pi(i+1)-1] for i in range(5)]])) # permuted and put in standard form\n",
    "            a_equiv, L2 = get_representative_A[tuplify(Gnew[4:,12:16]*~Gnew[:4,12:16])] # representative of the new A-block\n",
    "            Gnew = L2*Gnew\n",
    "            b_equiv, Y = get_conj_representative_AB[(a_equiv,tuplify(Gnew[4:,16:]*~Gnew[:4,16:]))] # representative of the new (A,B)-block\n",
    "            if not (a_equiv,b_equiv) in get_representative_AB:\n",
    "                get_representative_AB[(a_equiv,b_equiv)] = a,b_conj, ~L1*~L2*~block_diagonal_matrix(Y,Y) # multiply with this on the left to get (A,B)\n",
    "    a_perm,b_perm, L = get_representative_AB[(a,b_conj)]\n",
    "    get_representative_AB[(a,b)] = a_perm,b_perm, L*block_diagonal_matrix(X,X) # multiply with this on the left to get (A_perm,B_perm)\n",
    "len(representatives_AB) # number of configurations of five solids such that every two span the whole space"
   ]
  },
  {
   "cell_type": "markdown",
   "id": "48b6b3b7-ec08-4894-91d4-e03202d2058c",
   "metadata": {},
   "source": [
    "### Arcs of six solids in PG(7,2)"
   ]
  },
  {
   "cell_type": "markdown",
   "id": "7338f1f5-b520-42f9-84ad-c57a21e6c2d1",
   "metadata": {},
   "source": [
    "Similarly, we determine all nonequivalent triples $(A,B,C)$."
   ]
  },
  {
   "cell_type": "code",
   "execution_count": 9,
   "id": "e859df36-0f01-46b7-bbdc-4f9da0a40008",
   "metadata": {
    "execution": {
     "iopub.execute_input": "2023-12-30T17:02:47.427738Z",
     "iopub.status.busy": "2023-12-30T17:02:47.425163Z",
     "iopub.status.idle": "2023-12-30T17:02:49.349154Z",
     "shell.execute_reply": "2023-12-30T17:02:49.348389Z",
     "shell.execute_reply.started": "2023-12-30T17:02:47.427704Z"
    },
    "tags": []
   },
   "outputs": [
    {
     "data": {
      "text/plain": [
       "5830"
      ]
     },
     "execution_count": 9,
     "metadata": {},
     "output_type": "execute_result"
    }
   ],
   "source": [
    "conj_representatives_ABC = [] # (A,B,C)-blocks up to conjugation\n",
    "get_conj_representative_ABC = {} # stores the representative of the (A,B,C)-block\n",
    "for a,b in representatives_AB:\n",
    "    A,B = matrix(a),matrix(b)\n",
    "    centraliser_AB = [X for X in centraliser[a] if B*X==X*B]\n",
    "    for C in compatibleblocks[a]:\n",
    "        c = tuplify(C)\n",
    "        if (B+C).is_invertible() and not (a,b,c) in get_conj_representative_ABC: # conjugacy class not yet considered\n",
    "            conj_representatives_ABC.append((a,b,c))\n",
    "            for X in centraliser_AB:\n",
    "                c_equiv = tuplify(~X*C*X)\n",
    "                if not (a,b,c_equiv) in get_conj_representative_ABC:\n",
    "                    get_conj_representative_ABC[(a,b,c_equiv)] = c, X # conjugate with X to get (A,B,C)\n",
    "len(conj_representatives_ABC)"
   ]
  },
  {
   "cell_type": "code",
   "execution_count": 10,
   "id": "8aa82814-1d65-4b6e-909c-eff1afcd5d36",
   "metadata": {
    "execution": {
     "iopub.execute_input": "2023-12-30T17:02:49.352610Z",
     "iopub.status.busy": "2023-12-30T17:02:49.350080Z",
     "iopub.status.idle": "2023-12-30T17:05:14.026118Z",
     "shell.execute_reply": "2023-12-30T17:05:14.025324Z",
     "shell.execute_reply.started": "2023-12-30T17:02:49.352580Z"
    },
    "tags": []
   },
   "outputs": [
    {
     "data": {
      "text/plain": [
       "341"
      ]
     },
     "execution_count": 10,
     "metadata": {},
     "output_type": "execute_result"
    }
   ],
   "source": [
    "# may take a few minutes\n",
    "representatives_ABC = [] # (A,B,C)-blocks up to equivalence\n",
    "get_representative_ABC = {} # stores the representative of the (A,B,C)-block\n",
    "for (a,b,c), (c_conj, X) in get_conj_representative_ABC.items():\n",
    "    if not (a,b,c_conj) in get_representative_ABC: # permutation class not yet considered\n",
    "        representatives_ABC.append((a,b,c_conj))\n",
    "        G = block_matrix(GF(2),[[1,0,1,1,1,1],[0,1,1,matrix(a),matrix(b),matrix(c_conj)]])\n",
    "        columns = [G[:,4*i:4*i+4] for i in range(6)] # column blocks of G\n",
    "        for pi in Permutations(6):\n",
    "            Gnew, L1 = standard_form(block_matrix(GF(2), [[columns[pi(i+1)-1] for i in range(6)]])) # permuted and put in standard form\n",
    "            a_equiv, L2 = get_representative_A[tuplify(Gnew[4:,12:16]*~Gnew[:4,12:16])] # representative of the new A-block\n",
    "            Gnew = L2*Gnew\n",
    "            a_equiv,b_equiv, L3 = get_representative_AB[(a_equiv,tuplify(Gnew[4:,16:20]*~Gnew[:4,16:20]))] # representative of the new (A,B)-block\n",
    "            Gnew = L3*Gnew\n",
    "            c_equiv, Y = get_conj_representative_ABC[(a_equiv,b_equiv,tuplify(Gnew[4:,20:]*~Gnew[:4,20:]))] # representative of the new (A,B,C)-block\n",
    "            if not (a_equiv,b_equiv,c_equiv) in get_representative_ABC:\n",
    "                    get_representative_ABC[(a_equiv,b_equiv,c_equiv)] = a,b,c_conj\n",
    "    a_perm,b_perm,c_perm = get_representative_ABC[(a,b,c_conj)]\n",
    "    get_representative_ABC[(a,b,c)] = a_perm,b_perm,c_perm\n",
    "len(representatives_ABC) # number of configurations of six solids such that every two span the whole space"
   ]
  },
  {
   "cell_type": "markdown",
   "id": "8df2c486-8f56-4615-bba9-01cf2e141232",
   "metadata": {},
   "source": [
    "So there are 341 different arcs of six solids in PG(7,2)."
   ]
  },
  {
   "cell_type": "markdown",
   "id": "356fb568-d9bc-4e46-ad34-a4b3f3a16b52",
   "metadata": {},
   "source": [
    "## $[\\![6,2,3]\\!]_4$ stabiliser codes"
   ]
  },
  {
   "cell_type": "markdown",
   "id": "6ae796a5-4fc3-4ce2-b41e-23eb20ab9aa8",
   "metadata": {},
   "source": [
    "For each of the 341 configurations of six solids, we determine all possible symplectic polarities on the solids such that every codimension two space intersects an even number of solids in a hyperbolic line. Suppose that this is the case. For each line $\\ell$ in each of the six solids (so $6\\cdot35=210$ lines), let $$x_\\ell=\\begin{cases}0\\text{ if \\(\\ell\\) is totally isotropic}\\\\1\\text{ if \\(\\ell\\) is hyperbolic}\\end{cases}.$$\n",
    "Then for each codimension two space $\\pi$, the sum of the $x_\\ell$'s for which $\\ell$ is the intersection of $\\pi$ with one of the six solids, equals zero modulo 2. So it suffices to check a system of homogeneous equations over $\\mathbb{F}_2$, which we calculate as the nullspace of a matrix M."
   ]
  },
  {
   "cell_type": "code",
   "execution_count": 11,
   "id": "5425af5f-2d3c-4033-8ad6-bc62709c5bc0",
   "metadata": {
    "execution": {
     "iopub.execute_input": "2023-12-30T17:05:14.027689Z",
     "iopub.status.busy": "2023-12-30T17:05:14.027058Z",
     "iopub.status.idle": "2023-12-30T17:05:18.763883Z",
     "shell.execute_reply": "2023-12-30T17:05:18.763116Z",
     "shell.execute_reply.started": "2023-12-30T17:05:14.027662Z"
    },
    "tags": []
   },
   "outputs": [
    {
     "data": {
      "text/plain": [
       "10795"
      ]
     },
     "execution_count": 11,
     "metadata": {},
     "output_type": "execute_result"
    }
   ],
   "source": [
    "V = VectorSpace(GF(2),8)\n",
    "codim2s = list(V.subspaces(6))\n",
    "len(codim2s)"
   ]
  },
  {
   "cell_type": "markdown",
   "id": "83856279-dbf5-4157-823f-544bf7c46a58",
   "metadata": {},
   "source": [
    "The first three solids are always the same, so we can do some precalculations for all cases."
   ]
  },
  {
   "cell_type": "code",
   "execution_count": 12,
   "id": "157d4444-b607-423a-adf3-082af8b22cce",
   "metadata": {
    "execution": {
     "iopub.execute_input": "2023-12-30T17:05:18.765443Z",
     "iopub.status.busy": "2023-12-30T17:05:18.764798Z",
     "iopub.status.idle": "2023-12-30T17:05:42.203109Z",
     "shell.execute_reply": "2023-12-30T17:05:42.202309Z",
     "shell.execute_reply.started": "2023-12-30T17:05:18.765415Z"
    },
    "tags": []
   },
   "outputs": [],
   "source": [
    "solids = [V.subspace(list(block_matrix(GF(2),[x]))) for x in [[I,O],[O,I],[I,I]]]\n",
    "label = {} # stores the label of a line\n",
    "i = 0\n",
    "for solid in solids:\n",
    "    for line in solid.subspaces(2):\n",
    "        label[line] = i\n",
    "        i += 1\n",
    "M = [] # 10795 x 210 matrix\n",
    "for pi in codim2s:\n",
    "    row = [0]*210\n",
    "    for solid in solids:\n",
    "        intersection = pi.intersection(solid)\n",
    "        if intersection.dimension() == 2:\n",
    "            row[label[intersection]] = 1\n",
    "    M.append(row)"
   ]
  },
  {
   "cell_type": "markdown",
   "id": "4ddfc6df-0fe9-4e52-bb2d-6524c42b4bb4",
   "metadata": {},
   "source": [
    "Given such a solution, one still has to check whether the lines $\\ell$ for which $x_\\ell=1$, really are hyperbolic lines of a symplectic polarity. W(3,2) contains 15 totally isotropic lines and 20 hyperbolic lines, so we first of all check that $|\\{\\ell\\in\\pi\\mid x_\\ell=1\\}|=20$. Then, we choose a (potential) hyperbolic line $\\ell_1$ and loop over all (potential) hyperbolic lines $\\ell_2$ to check whether $\\ell_2=\\ell_1^\\perp$ (we can fix $\\ell_1$ by Witt's theorem). This is true if and only if every other (potential) hyperbolic line intersects exactly one of them. If we find such a line $\\ell_2$, then these lines are indeed the hyperbolic lines of a symplectic polarity.\n",
    "\n",
    "These solutions, that are indeed the hyperbolic lines of symplectic polarities, are then stored as a \"stabiliser matrix\" $$G=\\begin{pmatrix}X_0&O&Y&A_0&B_0&C_0\\\\O&X_1&Y&A_1&B_1&C_1\\end{pmatrix}$$ of a $[\\![6,2,3]\\!]_4$ code, where the first two columns of every column block span a hyperbolic line $\\ell$ and the next two span $\\ell^\\perp$."
   ]
  },
  {
   "cell_type": "code",
   "execution_count": 13,
   "id": "417865fa-a2b2-40de-8582-16b6d822bd51",
   "metadata": {
    "execution": {
     "iopub.execute_input": "2023-12-30T17:05:42.204770Z",
     "iopub.status.busy": "2023-12-30T17:05:42.204063Z",
     "iopub.status.idle": "2023-12-30T19:36:35.353612Z",
     "shell.execute_reply": "2023-12-30T19:36:35.352513Z",
     "shell.execute_reply.started": "2023-12-30T17:05:42.204742Z"
    }
   },
   "outputs": [
    {
     "name": "stdout",
     "output_type": "stream",
     "text": [
      "Calculating solutions for configuration nr. 1.\n",
      "Calculating solutions for configuration nr. 2.\n",
      "Calculating solutions for configuration nr. 3.\n",
      "Calculating solutions for configuration nr. 4.\n",
      "Calculating solutions for configuration nr. 5.\n",
      "Calculating solutions for configuration nr. 6.\n",
      "Calculating solutions for configuration nr. 7.\n",
      "Calculating solutions for configuration nr. 8.\n",
      "Calculating solutions for configuration nr. 9.\n",
      "Calculating solutions for configuration nr. 10.\n",
      "Calculating solutions for configuration nr. 11.\n",
      "Calculating solutions for configuration nr. 12.\n",
      "Calculating solutions for configuration nr. 13.\n",
      "Calculating solutions for configuration nr. 14.\n",
      "Calculating solutions for configuration nr. 15.\n",
      "Calculating solutions for configuration nr. 16.\n",
      "Calculating solutions for configuration nr. 17.\n",
      "Calculating solutions for configuration nr. 18.\n",
      "Calculating solutions for configuration nr. 19.\n",
      "Calculating solutions for configuration nr. 20.\n",
      "Calculating solutions for configuration nr. 21.\n",
      "Calculating solutions for configuration nr. 22.\n",
      "Calculating solutions for configuration nr. 23.\n",
      "Calculating solutions for configuration nr. 24.\n",
      "Calculating solutions for configuration nr. 25.\n",
      "Calculating solutions for configuration nr. 26.\n",
      "Calculating solutions for configuration nr. 27.\n",
      "Calculating solutions for configuration nr. 28.\n",
      "Calculating solutions for configuration nr. 29.\n",
      "Calculating solutions for configuration nr. 30.\n",
      "Calculating solutions for configuration nr. 31.\n",
      "Calculating solutions for configuration nr. 32.\n",
      "Calculating solutions for configuration nr. 33.\n",
      "Calculating solutions for configuration nr. 34.\n",
      "Calculating solutions for configuration nr. 35.\n",
      "Calculating solutions for configuration nr. 36.\n",
      "Calculating solutions for configuration nr. 37.\n",
      "Calculating solutions for configuration nr. 38.\n",
      "Calculating solutions for configuration nr. 39.\n",
      "Calculating solutions for configuration nr. 40.\n",
      "Calculating solutions for configuration nr. 41.\n",
      "Calculating solutions for configuration nr. 42.\n",
      "Calculating solutions for configuration nr. 43.\n",
      "Calculating solutions for configuration nr. 44.\n",
      "Calculating solutions for configuration nr. 45.\n",
      "Calculating solutions for configuration nr. 46.\n",
      "Calculating solutions for configuration nr. 47.\n",
      "Calculating solutions for configuration nr. 48.\n",
      "Calculating solutions for configuration nr. 49.\n",
      "Calculating solutions for configuration nr. 50.\n",
      "Calculating solutions for configuration nr. 51.\n",
      "Calculating solutions for configuration nr. 52.\n",
      "Calculating solutions for configuration nr. 53.\n",
      "Calculating solutions for configuration nr. 54.\n",
      "Calculating solutions for configuration nr. 55.\n",
      "Calculating solutions for configuration nr. 56.\n",
      "Calculating solutions for configuration nr. 57.\n",
      "Calculating solutions for configuration nr. 58.\n",
      "Calculating solutions for configuration nr. 59.\n",
      "Calculating solutions for configuration nr. 60.\n",
      "Calculating solutions for configuration nr. 61.\n",
      "Calculating solutions for configuration nr. 62.\n",
      "Calculating solutions for configuration nr. 63.\n",
      "Calculating solutions for configuration nr. 64.\n",
      "Calculating solutions for configuration nr. 65.\n",
      "Calculating solutions for configuration nr. 66.\n",
      "Calculating solutions for configuration nr. 67.\n",
      "Calculating solutions for configuration nr. 68.\n",
      "Calculating solutions for configuration nr. 69.\n",
      "Calculating solutions for configuration nr. 70.\n",
      "Calculating solutions for configuration nr. 71.\n",
      "Calculating solutions for configuration nr. 72.\n",
      "Calculating solutions for configuration nr. 73.\n",
      "Calculating solutions for configuration nr. 74.\n",
      "Calculating solutions for configuration nr. 75.\n",
      "Calculating solutions for configuration nr. 76.\n",
      "Calculating solutions for configuration nr. 77.\n",
      "Calculating solutions for configuration nr. 78.\n",
      "Calculating solutions for configuration nr. 79.\n",
      "Calculating solutions for configuration nr. 80.\n",
      "Calculating solutions for configuration nr. 81.\n",
      "Calculating solutions for configuration nr. 82.\n",
      "Calculating solutions for configuration nr. 83.\n",
      "Calculating solutions for configuration nr. 84.\n",
      "Calculating solutions for configuration nr. 85.\n",
      "Calculating solutions for configuration nr. 86.\n",
      "Calculating solutions for configuration nr. 87.\n",
      "Calculating solutions for configuration nr. 88.\n",
      "Calculating solutions for configuration nr. 89.\n",
      "Calculating solutions for configuration nr. 90.\n",
      "Calculating solutions for configuration nr. 91.\n",
      "Calculating solutions for configuration nr. 92.\n",
      "Calculating solutions for configuration nr. 93.\n",
      "Calculating solutions for configuration nr. 94.\n",
      "Calculating solutions for configuration nr. 95.\n",
      "Calculating solutions for configuration nr. 96.\n",
      "Calculating solutions for configuration nr. 97.\n",
      "Calculating solutions for configuration nr. 98.\n",
      "Calculating solutions for configuration nr. 99.\n",
      "Calculating solutions for configuration nr. 100.\n",
      "Calculating solutions for configuration nr. 101.\n",
      "Calculating solutions for configuration nr. 102.\n",
      "Calculating solutions for configuration nr. 103.\n",
      "Calculating solutions for configuration nr. 104.\n",
      "Calculating solutions for configuration nr. 105.\n",
      "Calculating solutions for configuration nr. 106.\n",
      "Calculating solutions for configuration nr. 107.\n",
      "Calculating solutions for configuration nr. 108.\n",
      "Calculating solutions for configuration nr. 109.\n",
      "Calculating solutions for configuration nr. 110.\n",
      "Calculating solutions for configuration nr. 111.\n",
      "Calculating solutions for configuration nr. 112.\n",
      "Calculating solutions for configuration nr. 113.\n",
      "Calculating solutions for configuration nr. 114.\n",
      "Calculating solutions for configuration nr. 115.\n",
      "Calculating solutions for configuration nr. 116.\n",
      "Calculating solutions for configuration nr. 117.\n",
      "Calculating solutions for configuration nr. 118.\n",
      "Calculating solutions for configuration nr. 119.\n",
      "Calculating solutions for configuration nr. 120.\n",
      "Calculating solutions for configuration nr. 121.\n",
      "Calculating solutions for configuration nr. 123.\n",
      "Calculating solutions for configuration nr. 124.\n",
      "Calculating solutions for configuration nr. 125.\n",
      "Calculating solutions for configuration nr. 126.\n",
      "Calculating solutions for configuration nr. 127.\n",
      "Calculating solutions for configuration nr. 128.\n",
      "Calculating solutions for configuration nr. 129.\n",
      "Calculating solutions for configuration nr. 130.\n",
      "Calculating solutions for configuration nr. 131.\n",
      "Calculating solutions for configuration nr. 132.\n",
      "Calculating solutions for configuration nr. 133.\n",
      "Calculating solutions for configuration nr. 134.\n",
      "Calculating solutions for configuration nr. 135.\n",
      "Calculating solutions for configuration nr. 136.\n",
      "Calculating solutions for configuration nr. 137.\n",
      "Calculating solutions for configuration nr. 138.\n",
      "Calculating solutions for configuration nr. 139.\n",
      "Calculating solutions for configuration nr. 140.\n",
      "Calculating solutions for configuration nr. 141.\n",
      "Calculating solutions for configuration nr. 142.\n",
      "Calculating solutions for configuration nr. 143.\n",
      "Calculating solutions for configuration nr. 144.\n",
      "Calculating solutions for configuration nr. 145.\n",
      "Calculating solutions for configuration nr. 146.\n",
      "Calculating solutions for configuration nr. 147.\n",
      "Calculating solutions for configuration nr. 148.\n",
      "Calculating solutions for configuration nr. 149.\n",
      "Calculating solutions for configuration nr. 150.\n",
      "Calculating solutions for configuration nr. 151.\n",
      "Calculating solutions for configuration nr. 152.\n",
      "Calculating solutions for configuration nr. 153.\n",
      "Calculating solutions for configuration nr. 154.\n",
      "Calculating solutions for configuration nr. 155.\n",
      "Calculating solutions for configuration nr. 156.\n",
      "Calculating solutions for configuration nr. 157.\n",
      "Calculating solutions for configuration nr. 158.\n",
      "Calculating solutions for configuration nr. 159.\n",
      "Calculating solutions for configuration nr. 160.\n",
      "Calculating solutions for configuration nr. 161.\n",
      "Calculating solutions for configuration nr. 162.\n",
      "Calculating solutions for configuration nr. 163.\n",
      "Calculating solutions for configuration nr. 164.\n",
      "Calculating solutions for configuration nr. 165.\n",
      "Calculating solutions for configuration nr. 166.\n",
      "Calculating solutions for configuration nr. 167.\n",
      "Calculating solutions for configuration nr. 168.\n",
      "Calculating solutions for configuration nr. 169.\n",
      "Calculating solutions for configuration nr. 170.\n",
      "Calculating solutions for configuration nr. 171.\n",
      "Calculating solutions for configuration nr. 172.\n",
      "Calculating solutions for configuration nr. 173.\n",
      "Calculating solutions for configuration nr. 174.\n",
      "Calculating solutions for configuration nr. 175.\n",
      "Calculating solutions for configuration nr. 176.\n",
      "Calculating solutions for configuration nr. 177.\n",
      "Calculating solutions for configuration nr. 178.\n",
      "Calculating solutions for configuration nr. 179.\n",
      "Calculating solutions for configuration nr. 180.\n",
      "Calculating solutions for configuration nr. 181.\n",
      "Calculating solutions for configuration nr. 182.\n",
      "Calculating solutions for configuration nr. 183.\n",
      "Calculating solutions for configuration nr. 184.\n",
      "Calculating solutions for configuration nr. 185.\n",
      "Calculating solutions for configuration nr. 186.\n",
      "Calculating solutions for configuration nr. 187.\n",
      "Calculating solutions for configuration nr. 188.\n",
      "Calculating solutions for configuration nr. 189.\n",
      "Calculating solutions for configuration nr. 190.\n",
      "Calculating solutions for configuration nr. 191.\n",
      "Calculating solutions for configuration nr. 192.\n",
      "Calculating solutions for configuration nr. 193.\n",
      "Calculating solutions for configuration nr. 194.\n",
      "Calculating solutions for configuration nr. 195.\n",
      "Calculating solutions for configuration nr. 196.\n",
      "Calculating solutions for configuration nr. 197.\n",
      "Calculating solutions for configuration nr. 198.\n",
      "Calculating solutions for configuration nr. 199.\n",
      "Calculating solutions for configuration nr. 200.\n",
      "Calculating solutions for configuration nr. 201.\n",
      "Calculating solutions for configuration nr. 202.\n",
      "Calculating solutions for configuration nr. 203.\n",
      "Calculating solutions for configuration nr. 204.\n",
      "Calculating solutions for configuration nr. 205.\n",
      "Calculating solutions for configuration nr. 206.\n",
      "Calculating solutions for configuration nr. 207.\n",
      "Calculating solutions for configuration nr. 208.\n",
      "Calculating solutions for configuration nr. 209.\n",
      "Calculating solutions for configuration nr. 210.\n",
      "Calculating solutions for configuration nr. 211.\n",
      "Calculating solutions for configuration nr. 212.\n",
      "Calculating solutions for configuration nr. 213.\n",
      "Calculating solutions for configuration nr. 214.\n",
      "Calculating solutions for configuration nr. 215.\n",
      "Calculating solutions for configuration nr. 216.\n",
      "Calculating solutions for configuration nr. 217.\n",
      "Calculating solutions for configuration nr. 218.\n",
      "Calculating solutions for configuration nr. 219.\n",
      "Calculating solutions for configuration nr. 220.\n",
      "Calculating solutions for configuration nr. 221.\n",
      "Calculating solutions for configuration nr. 222.\n",
      "Calculating solutions for configuration nr. 223.\n",
      "Calculating solutions for configuration nr. 224.\n",
      "Calculating solutions for configuration nr. 225.\n",
      "Calculating solutions for configuration nr. 226.\n",
      "Calculating solutions for configuration nr. 227.\n",
      "Calculating solutions for configuration nr. 228.\n",
      "Calculating solutions for configuration nr. 229.\n",
      "Calculating solutions for configuration nr. 230.\n",
      "Calculating solutions for configuration nr. 231.\n",
      "Calculating solutions for configuration nr. 232.\n",
      "Calculating solutions for configuration nr. 233.\n",
      "Calculating solutions for configuration nr. 234.\n",
      "Calculating solutions for configuration nr. 235.\n",
      "Calculating solutions for configuration nr. 236.\n",
      "Calculating solutions for configuration nr. 237.\n",
      "Calculating solutions for configuration nr. 238.\n",
      "Calculating solutions for configuration nr. 239.\n",
      "Calculating solutions for configuration nr. 240.\n",
      "Calculating solutions for configuration nr. 241.\n",
      "Calculating solutions for configuration nr. 242.\n",
      "Calculating solutions for configuration nr. 243.\n",
      "Calculating solutions for configuration nr. 244.\n",
      "Calculating solutions for configuration nr. 245.\n",
      "Calculating solutions for configuration nr. 246.\n",
      "Calculating solutions for configuration nr. 247.\n",
      "Calculating solutions for configuration nr. 248.\n",
      "Calculating solutions for configuration nr. 249.\n",
      "Calculating solutions for configuration nr. 250.\n",
      "Calculating solutions for configuration nr. 251.\n",
      "Calculating solutions for configuration nr. 252.\n",
      "Calculating solutions for configuration nr. 253.\n",
      "Calculating solutions for configuration nr. 254.\n",
      "Calculating solutions for configuration nr. 255.\n",
      "Calculating solutions for configuration nr. 256.\n",
      "Calculating solutions for configuration nr. 257.\n",
      "Calculating solutions for configuration nr. 258.\n",
      "Calculating solutions for configuration nr. 259.\n",
      "Calculating solutions for configuration nr. 260.\n",
      "Calculating solutions for configuration nr. 261.\n",
      "Calculating solutions for configuration nr. 262.\n",
      "Calculating solutions for configuration nr. 263.\n",
      "Calculating solutions for configuration nr. 264.\n",
      "Calculating solutions for configuration nr. 265.\n",
      "Calculating solutions for configuration nr. 266.\n",
      "Calculating solutions for configuration nr. 267.\n",
      "Calculating solutions for configuration nr. 268.\n",
      "Calculating solutions for configuration nr. 269.\n",
      "Calculating solutions for configuration nr. 270.\n",
      "Calculating solutions for configuration nr. 271.\n",
      "Calculating solutions for configuration nr. 272.\n",
      "Calculating solutions for configuration nr. 273.\n",
      "Calculating solutions for configuration nr. 274.\n",
      "Calculating solutions for configuration nr. 275.\n",
      "Calculating solutions for configuration nr. 276.\n",
      "Calculating solutions for configuration nr. 277.\n",
      "Calculating solutions for configuration nr. 278.\n",
      "Calculating solutions for configuration nr. 279.\n",
      "Calculating solutions for configuration nr. 280.\n",
      "Calculating solutions for configuration nr. 281.\n",
      "Calculating solutions for configuration nr. 282.\n",
      "Calculating solutions for configuration nr. 283.\n",
      "Calculating solutions for configuration nr. 284.\n",
      "Calculating solutions for configuration nr. 285.\n",
      "Calculating solutions for configuration nr. 286.\n",
      "Calculating solutions for configuration nr. 287.\n",
      "Calculating solutions for configuration nr. 288.\n",
      "Calculating solutions for configuration nr. 289.\n",
      "Calculating solutions for configuration nr. 290.\n",
      "Calculating solutions for configuration nr. 291.\n",
      "Calculating solutions for configuration nr. 292.\n",
      "Calculating solutions for configuration nr. 293.\n",
      "Calculating solutions for configuration nr. 294.\n",
      "Calculating solutions for configuration nr. 295.\n",
      "Calculating solutions for configuration nr. 296.\n",
      "Calculating solutions for configuration nr. 297.\n",
      "Calculating solutions for configuration nr. 298.\n",
      "Calculating solutions for configuration nr. 299.\n",
      "Calculating solutions for configuration nr. 300.\n",
      "Calculating solutions for configuration nr. 301.\n",
      "Calculating solutions for configuration nr. 302.\n",
      "Calculating solutions for configuration nr. 303.\n",
      "Calculating solutions for configuration nr. 304.\n",
      "Calculating solutions for configuration nr. 305.\n",
      "Calculating solutions for configuration nr. 306.\n",
      "Calculating solutions for configuration nr. 307.\n",
      "Calculating solutions for configuration nr. 308.\n",
      "Calculating solutions for configuration nr. 309.\n",
      "Calculating solutions for configuration nr. 310.\n",
      "Calculating solutions for configuration nr. 311.\n",
      "Calculating solutions for configuration nr. 312.\n",
      "Calculating solutions for configuration nr. 313.\n",
      "Calculating solutions for configuration nr. 314.\n",
      "Calculating solutions for configuration nr. 315.\n",
      "Calculating solutions for configuration nr. 316.\n",
      "Calculating solutions for configuration nr. 317.\n",
      "Calculating solutions for configuration nr. 318.\n",
      "Calculating solutions for configuration nr. 319.\n",
      "Calculating solutions for configuration nr. 320.\n",
      "Calculating solutions for configuration nr. 321.\n",
      "Calculating solutions for configuration nr. 322.\n",
      "Calculating solutions for configuration nr. 323.\n",
      "Calculating solutions for configuration nr. 324.\n",
      "Calculating solutions for configuration nr. 325.\n",
      "Calculating solutions for configuration nr. 326.\n",
      "Calculating solutions for configuration nr. 327.\n",
      "Calculating solutions for configuration nr. 328.\n",
      "Calculating solutions for configuration nr. 329.\n",
      "Calculating solutions for configuration nr. 330.\n",
      "Calculating solutions for configuration nr. 331.\n",
      "Calculating solutions for configuration nr. 332.\n",
      "Calculating solutions for configuration nr. 333.\n",
      "Calculating solutions for configuration nr. 334.\n",
      "Calculating solutions for configuration nr. 335.\n",
      "Calculating solutions for configuration nr. 336.\n",
      "Calculating solutions for configuration nr. 337.\n",
      "Calculating solutions for configuration nr. 338.\n",
      "Calculating solutions for configuration nr. 339.\n",
      "Calculating solutions for configuration nr. 340.\n",
      "Calculating solutions for configuration nr. 341.\n"
     ]
    },
    {
     "data": {
      "text/plain": [
       "1311"
      ]
     },
     "execution_count": 13,
     "metadata": {},
     "output_type": "execute_result"
    }
   ],
   "source": [
    "# may take a few hours\n",
    "count = 0\n",
    "stabs = [] # stabiliser matrices of [[6,2,3]]_4 codes\n",
    "for a,b,c in representatives_ABC:\n",
    "    count += 1\n",
    "    print(\"Calculating solutions for configuration nr. \" + str(count) + \".\")\n",
    "    A,B,C = matrix(a),matrix(b),matrix(c)\n",
    "    solids = [V.subspace(list(block_matrix(GF(2),[x]))) for x in [[I,O],[O,I],[I,I],[I,A.transpose()],[I,B.transpose()],[I,C.transpose()]]]\n",
    "    i = 105 # continuing from the fourth solid\n",
    "    for solid in solids[3:]:\n",
    "        for line in solid.subspaces(2):\n",
    "            label[line] = i\n",
    "            i += 1\n",
    "    row = 0\n",
    "    for pi in codim2s:\n",
    "        for i in range(105,210):\n",
    "            M[row][i] = 0 # reset the coefficients to zero\n",
    "        for solid in solids[3:]:\n",
    "            intersection = pi.intersection(solid)\n",
    "            if intersection.dimension() == 2:\n",
    "                M[row][label[intersection]] = 1\n",
    "        row += 1\n",
    "    for v in matrix(GF(2), M).right_kernel():\n",
    "        v = list(v)\n",
    "        if not all([v[35*i:35*(i+1)].count(1)==20 for i in range(6)]):\n",
    "            continue\n",
    "        G = matrix(ncols=8,nrows=0) # transposed \"stabiliser matrix\", every two rows span a line\n",
    "        for solid in solids:\n",
    "            symplectic_lines = [line for line in solid.subspaces(2) if v[label[line]]==1]\n",
    "            l1 = symplectic_lines[0] # w.l.o.g. by Witt's theorem\n",
    "            for l2 in symplectic_lines:\n",
    "                symplectic = all(line.intersection(l1).dimension() != line.intersection(l2).dimension() for line in symplectic_lines) # if l2 = perp(l1)\n",
    "                if symplectic:\n",
    "                    G = G.stack(matrix(l1.basis()))\n",
    "                    G = G.stack(matrix(l2.basis()))\n",
    "                    break\n",
    "            if not symplectic:\n",
    "                break\n",
    "        if symplectic:\n",
    "            stabs.append(G.transpose())\n",
    "len(stabs)"
   ]
  },
  {
   "cell_type": "markdown",
   "id": "e5ee0aec-d837-4f05-9546-46acfa9039da",
   "metadata": {},
   "source": [
    "So there are at most 1311 different $[\\![6,2,3]\\!]_4$ codes."
   ]
  },
  {
   "cell_type": "markdown",
   "id": "ec6a0631-c518-409f-ad85-8f3a0c2c8b1a",
   "metadata": {},
   "source": [
    "## None of the $[\\![6,2,3]\\!]_4$ codes extends to a $[\\![7,1,4]\\!]_4$ code"
   ]
  },
  {
   "cell_type": "markdown",
   "id": "d0928b3d-d8c6-41bf-b592-743bb10eaf37",
   "metadata": {},
   "source": [
    "Up to equivalence, the stabiliser matrix of a $[\\![7,1,4]\\!]_4$ code looks like $$\\begin{pmatrix}X_0&O&O&Y&A_0&B_0&C_0\\\\O&X_1&O&Y&A_1&B_1&C_1\\\\O&O&X_2&Y&A_2&B_2&C_2\\end{pmatrix}$$ where $$\\begin{pmatrix}X_0&O&Y&A_0&B_0&C_0\\\\O&X_1&Y&A_1&B_1&C_1\\end{pmatrix}$$ is the \"stabiliser matrix\" of a $[\\![6,2,3]\\!]_4$ code (one of the 1311 previous solutions), where every two columns span a hyperbolic line and its perpendicular line. It has the property that any two rows are symplectic orthogonal, and any three column blocks have full rank. The following function checks the latter property for a given matrix with seven column blocks of size four:"
   ]
  },
  {
   "cell_type": "code",
   "execution_count": 14,
   "id": "50f50f3a-f39c-47de-a22d-a75b611f8d7d",
   "metadata": {
    "execution": {
     "iopub.execute_input": "2023-12-30T19:36:35.354893Z",
     "iopub.status.busy": "2023-12-30T19:36:35.354358Z",
     "iopub.status.idle": "2023-12-30T19:36:35.362182Z",
     "shell.execute_reply": "2023-12-30T19:36:35.360168Z",
     "shell.execute_reply.started": "2023-12-30T19:36:35.354866Z"
    }
   },
   "outputs": [],
   "source": [
    "def is_arc(G):\n",
    "    columns = [G[:,4*i:4*i+4] for i in range(7)] # column blocks of G\n",
    "    for S in Subsets(range(7),3):\n",
    "        C1,C2,C3 = columns[S[0]],columns[S[1]],columns[S[2]]\n",
    "        if not rank(block_matrix([[C1,C2,C3]])) == G.nrows():\n",
    "            return False\n",
    "    return True"
   ]
  },
  {
   "cell_type": "markdown",
   "id": "6f94c5a5-2ee0-4304-ac06-72dbb6297780",
   "metadata": {},
   "source": [
    "Given a solution for the stabiliser matrix of a $[\\![6,2,3]\\!]_4$ code, we first determine all possible submatrices $$\\begin{pmatrix}Y&A_2&B_2&C_2\\end{pmatrix}$$ row by row. Each of these rows is symplectic orthogonal to the rows of $$\\begin{pmatrix}Y&A_0&B_0&C_0\\\\Y&A_1&B_1&C_1\\end{pmatrix}$$ with respect to the symplectic form\n",
    "$$f(v,w)=v_1w_2+v_2w_1+\\cdots+v_{15}w_{16}+v_{16}w_{15}.$$"
   ]
  },
  {
   "cell_type": "code",
   "execution_count": 16,
   "id": "517db685-b832-4716-8c69-15e65a0660d7",
   "metadata": {
    "execution": {
     "iopub.execute_input": "2023-12-30T19:54:06.827201Z",
     "iopub.status.busy": "2023-12-30T19:54:06.826115Z",
     "iopub.status.idle": "2023-12-30T20:04:06.727851Z",
     "shell.execute_reply": "2023-12-30T20:04:06.727066Z",
     "shell.execute_reply.started": "2023-12-30T19:54:06.827159Z"
    },
    "tags": []
   },
   "outputs": [
    {
     "name": "stdout",
     "output_type": "stream",
     "text": [
      "Done.\n"
     ]
    }
   ],
   "source": [
    "# takes about 15 minutes\n",
    "for G in stabs:\n",
    "    M = G[:,8:] # from now on, we are only interested in the last four column blocks\n",
    "    Y = M[:4,:4]\n",
    "    A0 = M[:4,4:8]\n",
    "    A1 = M[4:,4:8]\n",
    "    B0 = M[:4,8:12]\n",
    "    B1 = M[4:,8:12]\n",
    "    C0 = M[:4,12:]\n",
    "    C1 = M[4:,12:]\n",
    "    R0 = block_matrix([[I,O,O,Y,A0,B0,C0]])\n",
    "    R1 = block_matrix([[O,I,O,Y,A1,B1,C1]])\n",
    "    W = identity_matrix(GF(2),8).tensor_product(matrix(GF(2),[[0,1,],[1,0]])) # symplectic form\n",
    "    ortho = (M*W).right_kernel() # rows that are orthogonal to those of M\n",
    "    appendable_rows = {i:[r for r in ortho if r[:4]==vector(Y[i:i+1,:])] for i in range(4)}\n",
    "    for r0 in appendable_rows[0]:\n",
    "        full_r0 = matrix([0,0,0,0,0,0,0,0,1,0,0,0]+list(r0))\n",
    "        if not is_arc(block_matrix([[R0],[R1],[full_r0]])):\n",
    "            continue\n",
    "        for r1 in appendable_rows[1]:\n",
    "            full_r1 = matrix([0,0,0,0,0,0,0,0,0,1,0,0]+list(r1))\n",
    "            if not is_arc(block_matrix([[R0],[R1],[full_r0],[full_r1]])):\n",
    "                continue\n",
    "            for r2 in appendable_rows[2]:\n",
    "                full_r2 = matrix([0,0,0,0,0,0,0,0,0,0,1,0]+list(r2))\n",
    "                if not is_arc(block_matrix([[R0],[R1],[full_r0],[full_r1],[full_r2]])):\n",
    "                    continue\n",
    "                for r3 in appendable_rows[3]:\n",
    "                    full_r3 = matrix([0,0,0,0,0,0,0,0,0,0,0,1]+list(r3))\n",
    "                    if not is_arc(block_matrix([[R0],[R1],[full_r0],[full_r1],[full_r2],[full_r3]])):\n",
    "                        continue\n",
    "                    rows = [r0,r1,r2,r3]\n",
    "                    for r in rows:\n",
    "                        for s in rows:\n",
    "                            if r*W*s != 0:\n",
    "                                print(\"A [[7,1,4]]_4 code might exist.\") # if the symplectic inner product of every two of these rows is zero, a [[7,1,4]]_4 code does not exist\n",
    "print(\"Done.\")"
   ]
  },
  {
   "cell_type": "markdown",
   "id": "4136860a-50a9-490c-a7c1-814566c35b87",
   "metadata": {},
   "source": [
    "We observed that the rows of $\\begin{pmatrix}Y&A_2&B_2&C_2\\end{pmatrix}$ are always pairwise symplectic orthogonal. Hence the rows of $X_2$ should also be pairwise orthogonal, but $X_2$ has full rank, a contradiction. Thus, a $[\\![7,1,4]\\!]_4$ code does not exist. As a corollary, an $[\\![8,0,5]\\!]_4$ code does not exist either."
   ]
  }
 ],
 "metadata": {
  "kernelspec": {
   "display_name": "SageMath 9.7",
   "language": "sage",
   "name": "sagemath"
  },
  "language_info": {
   "codemirror_mode": {
    "name": "ipython",
    "version": 3
   },
   "file_extension": ".py",
   "mimetype": "text/x-python",
   "name": "python",
   "nbconvert_exporter": "python",
   "pygments_lexer": "ipython3",
   "version": "3.10.5"
  }
 },
 "nbformat": 4,
 "nbformat_minor": 5
}
